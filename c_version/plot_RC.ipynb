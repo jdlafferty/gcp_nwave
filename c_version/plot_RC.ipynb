{
 "cells": [
  {
   "cell_type": "code",
   "execution_count": 10,
   "metadata": {},
   "outputs": [],
   "source": [
    "import numpy as np\n",
    "from tqdm import trange\n",
    "import matplotlib.pyplot as plt\n",
    "from matplotlib.patches import Rectangle\n",
    "plt.rcParams['figure.figsize'] = (8, 6)  # set default size of plots\n",
    "plt.rcParams['image.interpolation'] = 'nearest'"
   ]
  },
  {
   "cell_type": "code",
   "execution_count": 11,
   "metadata": {},
   "outputs": [
    {
     "name": "stdout",
     "output_type": "stream",
     "text": [
      "[[ 0.006231  0.001632  0.       ... -0.015785  0.        0.      ]\n",
      " [ 0.000892  0.005495  0.009537 ... -0.026889 -0.014335  0.      ]\n",
      " [ 0.       -0.024729  0.       ...  0.        0.       -0.001739]\n",
      " ...\n",
      " [-0.022169  0.       -0.037553 ...  0.        0.       -0.0047  ]\n",
      " [ 0.        0.        0.       ...  0.        0.       -0.014941]\n",
      " [ 0.        0.        0.010073 ...  0.        0.        0.      ]]\n"
     ]
    },
    {
     "data": {
      "text/plain": [
       "(97, 400)"
      ]
     },
     "execution_count": 11,
     "metadata": {},
     "output_type": "execute_result"
    }
   ],
   "source": [
    "RC = np.genfromtxt(\"RC.csv\", delimiter = \",\")\n",
    "print(RC)\n",
    "RC.shape"
   ]
  },
  {
   "cell_type": "code",
   "execution_count": 12,
   "metadata": {},
   "outputs": [],
   "source": [
    "def plot_colortable(colors, text_on=True):\n",
    "    # ref: https://matplotlib.org/stable/gallery/color/named_colors.html#sphx-glr-gallery-color-named-colors-py\n",
    "    nunit = len(colors)\n",
    "    side_length = int(np.sqrt(nunit))\n",
    "    swatch_width = cell_width = cell_height = 32\n",
    "    # set figs\n",
    "    ncols = nrows = side_length\n",
    "    width = cell_width * ncols\n",
    "    height = cell_height * nrows\n",
    "    dpi = 72\n",
    "    fig, ax = plt.subplots(figsize=(width / dpi, height / dpi), dpi=dpi)\n",
    "    # set ax axis\n",
    "    ax.set_xlim(0, cell_width * ncols)\n",
    "    ax.set_ylim(cell_height * (nrows), 0)\n",
    "    ax.yaxis.set_visible(False)\n",
    "    ax.xaxis.set_visible(False)\n",
    "    ax.set_axis_off()\n",
    "\n",
    "    for unit_idx, nunit in enumerate(range(nunit)):\n",
    "        row = unit_idx // ncols\n",
    "        col = unit_idx % ncols\n",
    "        y = row * cell_height\n",
    "\n",
    "        swatch_start_x = cell_width * col\n",
    "        text_pos_x = cell_width * col  # + swatch_width\n",
    "\n",
    "        if text_on:\n",
    "            ax.text(text_pos_x + cell_width / 2, y + cell_height / 2, unit_idx, fontsize=6,\n",
    "                    horizontalalignment='center', verticalalignment='center')\n",
    "\n",
    "        ax.add_patch(\n",
    "            Rectangle(xy=(swatch_start_x, y), width=swatch_width, height=swatch_width, facecolor=colors[unit_idx],\n",
    "                      edgecolor='0.7')\n",
    "            )\n",
    "\n",
    "    return fig\n",
    "\n",
    "def rescale(vec, qt):\n",
    "    qtmin = np.quantile(vec, qt, axis=1)[:, np.newaxis]\n",
    "    qtmax = np.quantile(vec, 1 - qt, axis=1)[:, np.newaxis]\n",
    "    return np.minimum(np.maximum((vec - qtmin) / (qtmax - qtmin), 0), 1)\n",
    "\n",
    "def get_colors(Vt, alpha=0.5):\n",
    "    _, n = Vt.shape\n",
    "    colors = []\n",
    "    for i in range(n):\n",
    "        colors.append((*Vt[:, i], alpha))\n",
    "    return colors\n",
    "\n",
    "def plot_PCA(Phi, filename=''):\n",
    "    U, S, Vt = np.linalg.svd(Phi.T, full_matrices=False)   # Phi: 97 * 400\n",
    "    principal_score = U @ np.diag(S)[:, :3]\n",
    "    principal_scoreT = rescale(principal_score.T, 0.05)\n",
    "    colors = get_colors(principal_scoreT, alpha=0.8)\n",
    "    fig = plot_colortable(colors, text_on=False)\n",
    "    if len(filename) > 0:\n",
    "        fig.savefig(filename, bbox_inches='tight')\n",
    "    plt.close()\n",
    "\n",
    "plot_PCA(RC, \"RC.pdf\")"
   ]
  }
 ],
 "metadata": {
  "kernelspec": {
   "display_name": "Python 3.9.7 ('base')",
   "language": "python",
   "name": "python3"
  },
  "language_info": {
   "codemirror_mode": {
    "name": "ipython",
    "version": 3
   },
   "file_extension": ".py",
   "mimetype": "text/x-python",
   "name": "python",
   "nbconvert_exporter": "python",
   "pygments_lexer": "ipython3",
   "version": "3.9.7"
  },
  "orig_nbformat": 4,
  "vscode": {
   "interpreter": {
    "hash": "cf1ee66cb0a5dbbe9b15b35d8b5ef163dfe6de55254de5ac3d70cf481ad0a057"
   }
  }
 },
 "nbformat": 4,
 "nbformat_minor": 2
}
